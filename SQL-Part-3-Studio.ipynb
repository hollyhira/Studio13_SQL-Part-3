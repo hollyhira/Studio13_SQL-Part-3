{
    "metadata": {
        "kernelspec": {
            "name": "SQL",
            "display_name": "SQL",
            "language": "sql"
        },
        "language_info": {
            "name": "sql",
            "version": ""
        },
        "extensions": {
            "azuredatastudio": {
                "version": 1,
                "views": []
            }
        }
    },
    "nbformat_minor": 2,
    "nbformat": 4,
    "cells": [
        {
            "cell_type": "markdown",
            "source": [
                "# SQL Part 3 Studio\n",
                "\n",
                "### Let's practice your SQL quering skills!  For each question, work along in the notebook adding your query and answering the questions. \n",
                "\n",
                "### **DataSet**\n",
                "\n",
                "### <span style=\"font-size: 14px; font-family: -apple-system, BlinkMacSystemFont, sans-serif;\">We will be using the Goodbooks-10k dataset from the exercises in the prep work.&nbsp; Feel free reference your previous notebooks.</span>\n",
                "\n",
                "- The dataset can be found here: [goodbooks-10k](https://www.kaggle.com/zygmunt/goodbooks-10k)\n",
                "- You can access the **BooksDB** in the Launchcode server.\n",
                "\n",
                "### **Business Issue**\n",
                "\n",
                "You are an employee at a small independet bookstore and you have been tasked to increase sales.  You decide to use the BooksDB to find books and themes to highlight in fun promotions throughout each month / season.  We will be starting with March and then you will have a chance to explore another month of your choosing.  We want to come up with a list of events/ promotions to run each month.  If you are looking for ideas to include in your promotions:\n",
                "\n",
                "- [https://www.calendarr.com/united-states/calendar-2022/](https://www.calendarr.com/united-states/calendar-2022/)\n",
                "- [https://www.holidayinsights.com/moreholidays/](https://www.holidayinsights.com/moreholidays/)\n",
                "    - Click on a month and it will take you to a more detailed page"
            ],
            "metadata": {
                "azdata_cell_guid": "b9034d8a-b631-48bf-a895-1012a6ffa784"
            },
            "attachments": {}
        },
        {
            "cell_type": "markdown",
            "source": [
                "## Part 1:  March - Women's History Month, Dr Seuss Day(3/2), National Pie Day3/14, St Patrick's Day (3/17), Season - Spring"
            ],
            "metadata": {
                "azdata_cell_guid": "6e55eb1c-4a14-4076-90d2-95ed17a6309f"
            },
            "attachments": {}
        },
        {
            "cell_type": "markdown",
            "source": [
                "### **Event 1:** Women's History Month\n",
                "\n",
                "Goal: Highlight Popular Womans Authors based on ratings from the Good Reads DB.\n",
                "\n",
                "### **Write a query that returns tag\\_id, the number of times each tag\\_id is used and the tag\\_name.**  \n",
                "\n",
                "### Use the GROUP BY and HAVING clause to narrow your focus.\n",
                "\n",
                "Try multiple keywords, ie woman vs female (female ended up giving better results)"
            ],
            "metadata": {
                "azdata_cell_guid": "d220c097-e9cf-4edd-9abe-312d071217b7"
            },
            "attachments": {}
        },
        {
            "cell_type": "code",
            "source": [
                "USE BooksDB\r\n",
                "SELECT COUNT(tag_id), goodreads_book_id\r\n",
                "FROM book_tags\r\n",
                ""
            ],
            "metadata": {
                "azdata_cell_guid": "5f0cda48-280d-4120-b1a3-4a79f1b03f1d",
                "language": "sql"
            },
            "outputs": [],
            "execution_count": null
        },
        {
            "cell_type": "code",
            "source": [
                "-- Solution\r\n",
                "--Write a query that returns tag_id, the number of times each tag_id is used and the tag_name.\r\n",
                "--WOMAN\r\n",
                "USE BooksDB\r\n",
                "SELECT book_tags.tag_id AS 'TAG ID' ,tags.tag_name AS 'TAG NAME',\r\n",
                "SUM(book_tags.count) AS 'TAG COUNT'\r\n",
                "FROM book_tags\r\n",
                "INNER JOIN tags\r\n",
                "ON book_tags.tag_id=tags.tag_id\r\n",
                "GROUP by book_tags.tag_id, tags.tag_name \r\n",
                "HAVING tag_name LIKE '%WOMAN%'\r\n",
                "ORDER BY SUM(book_tags.count) DESC;\r\n",
                "\r\n",
                "--FEMALE\r\n",
                "USE BooksDB\r\n",
                "SELECT book_tags.tag_id AS 'TAG ID' ,tags.tag_name AS 'TAG NAME',\r\n",
                "SUM(book_tags.count) AS 'TAG COUNT'\r\n",
                "FROM book_tags\r\n",
                "INNER JOIN tags\r\n",
                "ON book_tags.tag_id=tags.tag_id\r\n",
                "GROUP by book_tags.tag_id, tags.tag_name \r\n",
                "HAVING tag_name LIKE '%FEMALE%'\r\n",
                "ORDER BY SUM(book_tags.count) DESC;"
            ],
            "metadata": {
                "azdata_cell_guid": "e31b9d26-0386-44c7-828e-85f4f06f3ee6",
                "language": "sql",
                "tags": []
            },
            "outputs": [
                {
                    "output_type": "display_data",
                    "data": {
                        "text/html": "(24 rows affected)"
                    },
                    "metadata": {}
                },
                {
                    "output_type": "display_data",
                    "data": {
                        "text/html": "(35 rows affected)"
                    },
                    "metadata": {}
                },
                {
                    "output_type": "display_data",
                    "data": {
                        "text/html": "Total execution time: 00:00:00.883"
                    },
                    "metadata": {}
                },
                {
                    "output_type": "execute_result",
                    "execution_count": 13,
                    "data": {
                        "application/vnd.dataresource+json": {
                            "schema": {
                                "fields": [
                                    {
                                        "name": "TAG ID"
                                    },
                                    {
                                        "name": "TAG NAME"
                                    },
                                    {
                                        "name": "TAG COUNT"
                                    }
                                ]
                            },
                            "data": [
                                {
                                    "0": "32681",
                                    "1": "woman-s-murder-club",
                                    "2": "136"
                                },
                                {
                                    "0": "22271",
                                    "1": "older-woman-younger-man",
                                    "2": "97"
                                },
                                {
                                    "0": "19038",
                                    "1": "man-woman",
                                    "2": "93"
                                },
                                {
                                    "0": "32685",
                                    "1": "womans-murder-club",
                                    "2": "88"
                                },
                                {
                                    "0": "32740",
                                    "1": "wonder-woman",
                                    "2": "88"
                                },
                                {
                                    "0": "22269",
                                    "1": "older-man-younger-woman",
                                    "2": "72"
                                },
                                {
                                    "0": "32683",
                                    "1": "womanhood",
                                    "2": "46"
                                },
                                {
                                    "0": "4455",
                                    "1": "biblical-womanhood",
                                    "2": "29"
                                },
                                {
                                    "0": "4006",
                                    "1": "batwoman",
                                    "2": "17"
                                },
                                {
                                    "0": "937",
                                    "1": "21-books-every-woman-should-read",
                                    "2": "7"
                                },
                                {
                                    "0": "22270",
                                    "1": "older-woman",
                                    "2": "7"
                                },
                                {
                                    "0": "23671",
                                    "1": "pioneer-woman",
                                    "2": "7"
                                },
                                {
                                    "0": "5132",
                                    "1": "books-every-woman-should-read",
                                    "2": "5"
                                },
                                {
                                    "0": "7194",
                                    "1": "christian-woman",
                                    "2": "5"
                                },
                                {
                                    "0": "32680",
                                    "1": "woman-s-fiction",
                                    "2": "5"
                                },
                                {
                                    "0": "19757",
                                    "1": "memorable-woman-characters",
                                    "2": "4"
                                },
                                {
                                    "0": "4729",
                                    "1": "black-ops-woman-team-cia-sean-case",
                                    "2": "3"
                                },
                                {
                                    "0": "23891",
                                    "1": "policewoman-potential-victim",
                                    "2": "3"
                                },
                                {
                                    "0": "32679",
                                    "1": "woman-author",
                                    "2": "3"
                                },
                                {
                                    "0": "1386",
                                    "1": "a-woman-after-god-s-own-heart",
                                    "2": "2"
                                },
                                {
                                    "0": "1387",
                                    "1": "a-woman-after-gods-own-heart",
                                    "2": "2"
                                },
                                {
                                    "0": "10986",
                                    "1": "every-woman-should-read",
                                    "2": "2"
                                },
                                {
                                    "0": "32682",
                                    "1": "woman-trans-agender-authors",
                                    "2": "2"
                                },
                                {
                                    "0": "32684",
                                    "1": "womans-literature",
                                    "2": "2"
                                }
                            ]
                        },
                        "text/html": "<table><tr><th>TAG ID</th><th>TAG NAME</th><th>TAG COUNT</th></tr><tr><td>32681</td><td>woman-s-murder-club</td><td>136</td></tr><tr><td>22271</td><td>older-woman-younger-man</td><td>97</td></tr><tr><td>19038</td><td>man-woman</td><td>93</td></tr><tr><td>32685</td><td>womans-murder-club</td><td>88</td></tr><tr><td>32740</td><td>wonder-woman</td><td>88</td></tr><tr><td>22269</td><td>older-man-younger-woman</td><td>72</td></tr><tr><td>32683</td><td>womanhood</td><td>46</td></tr><tr><td>4455</td><td>biblical-womanhood</td><td>29</td></tr><tr><td>4006</td><td>batwoman</td><td>17</td></tr><tr><td>937</td><td>21-books-every-woman-should-read</td><td>7</td></tr><tr><td>22270</td><td>older-woman</td><td>7</td></tr><tr><td>23671</td><td>pioneer-woman</td><td>7</td></tr><tr><td>5132</td><td>books-every-woman-should-read</td><td>5</td></tr><tr><td>7194</td><td>christian-woman</td><td>5</td></tr><tr><td>32680</td><td>woman-s-fiction</td><td>5</td></tr><tr><td>19757</td><td>memorable-woman-characters</td><td>4</td></tr><tr><td>4729</td><td>black-ops-woman-team-cia-sean-case</td><td>3</td></tr><tr><td>23891</td><td>policewoman-potential-victim</td><td>3</td></tr><tr><td>32679</td><td>woman-author</td><td>3</td></tr><tr><td>1386</td><td>a-woman-after-god-s-own-heart</td><td>2</td></tr><tr><td>1387</td><td>a-woman-after-gods-own-heart</td><td>2</td></tr><tr><td>10986</td><td>every-woman-should-read</td><td>2</td></tr><tr><td>32682</td><td>woman-trans-agender-authors</td><td>2</td></tr><tr><td>32684</td><td>womans-literature</td><td>2</td></tr></table>"
                    },
                    "metadata": {}
                },
                {
                    "output_type": "execute_result",
                    "execution_count": 13,
                    "data": {
                        "application/vnd.dataresource+json": {
                            "schema": {
                                "fields": [
                                    {
                                        "name": "TAG ID"
                                    },
                                    {
                                        "name": "TAG NAME"
                                    },
                                    {
                                        "name": "TAG COUNT"
                                    }
                                ]
                            },
                            "data": [
                                {
                                    "0": "11643",
                                    "1": "female-author",
                                    "2": "17999"
                                },
                                {
                                    "0": "11644",
                                    "1": "female-authors",
                                    "2": "13690"
                                },
                                {
                                    "0": "11658",
                                    "1": "female-protagonist",
                                    "2": "2554"
                                },
                                {
                                    "0": "11646",
                                    "1": "female-detective",
                                    "2": "302"
                                },
                                {
                                    "0": "11656",
                                    "1": "female-pov",
                                    "2": "155"
                                },
                                {
                                    "0": "11662",
                                    "1": "female-writers",
                                    "2": "147"
                                },
                                {
                                    "0": "11642",
                                    "1": "female",
                                    "2": "133"
                                },
                                {
                                    "0": "11652",
                                    "1": "female-lead",
                                    "2": "61"
                                },
                                {
                                    "0": "28834",
                                    "1": "strong-female-lead",
                                    "2": "61"
                                },
                                {
                                    "0": "11647",
                                    "1": "female-detectives",
                                    "2": "59"
                                },
                                {
                                    "0": "3514",
                                    "1": "author-female",
                                    "2": "47"
                                },
                                {
                                    "0": "28833",
                                    "1": "strong-female-characters",
                                    "2": "30"
                                },
                                {
                                    "0": "28830",
                                    "1": "strong-female",
                                    "2": "21"
                                },
                                {
                                    "0": "11650",
                                    "1": "female-friendship",
                                    "2": "14"
                                },
                                {
                                    "0": "11655",
                                    "1": "female-pi",
                                    "2": "10"
                                },
                                {
                                    "0": "11659",
                                    "1": "female-serial-killer",
                                    "2": "8"
                                },
                                {
                                    "0": "28831",
                                    "1": "strong-female-character",
                                    "2": "7"
                                },
                                {
                                    "0": "1741",
                                    "1": "afghan-female-entrepreneur-under-ta",
                                    "2": "5"
                                },
                                {
                                    "0": "28835",
                                    "1": "strong-female-protagonist",
                                    "2": "5"
                                },
                                {
                                    "0": "11648",
                                    "1": "female-doctor",
                                    "2": "3"
                                },
                                {
                                    "0": "11653",
                                    "1": "female-main-character",
                                    "2": "3"
                                },
                                {
                                    "0": "11660",
                                    "1": "female-spy",
                                    "2": "3"
                                },
                                {
                                    "0": "11645",
                                    "1": "female-biographies",
                                    "2": "2"
                                },
                                {
                                    "0": "11649",
                                    "1": "female-fiction",
                                    "2": "2"
                                },
                                {
                                    "0": "11657",
                                    "1": "female-povs",
                                    "2": "2"
                                },
                                {
                                    "0": "11661",
                                    "1": "female-writer",
                                    "2": "2"
                                },
                                {
                                    "0": "4309",
                                    "1": "best-adult-female-friendship-books",
                                    "2": "1"
                                },
                                {
                                    "0": "11651",
                                    "1": "female-genre-authors",
                                    "2": "1"
                                },
                                {
                                    "0": "11654",
                                    "1": "female-persuasion",
                                    "2": "1"
                                },
                                {
                                    "0": "15331",
                                    "1": "important-female-authors",
                                    "2": "1"
                                },
                                {
                                    "0": "17079",
                                    "1": "kick-ass-female",
                                    "2": "1"
                                },
                                {
                                    "0": "24455",
                                    "1": "protagonist-female",
                                    "2": "1"
                                },
                                {
                                    "0": "28832",
                                    "1": "strong-female-character-s",
                                    "2": "1"
                                },
                                {
                                    "0": "28836",
                                    "1": "strong-female-supporting-characters",
                                    "2": "1"
                                },
                                {
                                    "0": "29324",
                                    "1": "tbr-ax-female",
                                    "2": "1"
                                }
                            ]
                        },
                        "text/html": "<table><tr><th>TAG ID</th><th>TAG NAME</th><th>TAG COUNT</th></tr><tr><td>11643</td><td>female-author</td><td>17999</td></tr><tr><td>11644</td><td>female-authors</td><td>13690</td></tr><tr><td>11658</td><td>female-protagonist</td><td>2554</td></tr><tr><td>11646</td><td>female-detective</td><td>302</td></tr><tr><td>11656</td><td>female-pov</td><td>155</td></tr><tr><td>11662</td><td>female-writers</td><td>147</td></tr><tr><td>11642</td><td>female</td><td>133</td></tr><tr><td>11652</td><td>female-lead</td><td>61</td></tr><tr><td>28834</td><td>strong-female-lead</td><td>61</td></tr><tr><td>11647</td><td>female-detectives</td><td>59</td></tr><tr><td>3514</td><td>author-female</td><td>47</td></tr><tr><td>28833</td><td>strong-female-characters</td><td>30</td></tr><tr><td>28830</td><td>strong-female</td><td>21</td></tr><tr><td>11650</td><td>female-friendship</td><td>14</td></tr><tr><td>11655</td><td>female-pi</td><td>10</td></tr><tr><td>11659</td><td>female-serial-killer</td><td>8</td></tr><tr><td>28831</td><td>strong-female-character</td><td>7</td></tr><tr><td>1741</td><td>afghan-female-entrepreneur-under-ta</td><td>5</td></tr><tr><td>28835</td><td>strong-female-protagonist</td><td>5</td></tr><tr><td>11648</td><td>female-doctor</td><td>3</td></tr><tr><td>11653</td><td>female-main-character</td><td>3</td></tr><tr><td>11660</td><td>female-spy</td><td>3</td></tr><tr><td>11645</td><td>female-biographies</td><td>2</td></tr><tr><td>11649</td><td>female-fiction</td><td>2</td></tr><tr><td>11657</td><td>female-povs</td><td>2</td></tr><tr><td>11661</td><td>female-writer</td><td>2</td></tr><tr><td>4309</td><td>best-adult-female-friendship-books</td><td>1</td></tr><tr><td>11651</td><td>female-genre-authors</td><td>1</td></tr><tr><td>11654</td><td>female-persuasion</td><td>1</td></tr><tr><td>15331</td><td>important-female-authors</td><td>1</td></tr><tr><td>17079</td><td>kick-ass-female</td><td>1</td></tr><tr><td>24455</td><td>protagonist-female</td><td>1</td></tr><tr><td>28832</td><td>strong-female-character-s</td><td>1</td></tr><tr><td>28836</td><td>strong-female-supporting-characters</td><td>1</td></tr><tr><td>29324</td><td>tbr-ax-female</td><td>1</td></tr></table>"
                    },
                    "metadata": {}
                }
            ],
            "execution_count": 13
        },
        {
            "cell_type": "markdown",
            "source": [
                "### **Which keyword(s) and tag(s) would you like to explore more?**\n",
                "\n",
                "Double click to edit."
            ],
            "metadata": {
                "azdata_cell_guid": "e9acd8b5-a62b-4ac0-bd07-19915b379ba6"
            },
            "attachments": {}
        },
        {
            "cell_type": "markdown",
            "source": [
                "### **Write a query to return authors, titles, ratings and** **selected tag(s)\\_id.**"
            ],
            "metadata": {
                "azdata_cell_guid": "59b84464-c0bc-4dac-9e02-0c803765b063"
            },
            "attachments": {}
        },
        {
            "cell_type": "code",
            "source": [
                "-- Solution\r\n",
                "USE BooksDB\r\n",
                "SELECT TOP 30 book_tags.tag_id AS 'TAG ID' ,books.authors AS 'AUTHORS', books.title AS 'TITLE', books.average_rating AS 'RATING'\r\n",
                "FROM book_tags\r\n",
                "INNER JOIN books\r\n",
                "ON book_tags.goodreads_book_id=books.book_id\r\n",
                "WHERE book_tags.tag_id= 11643\r\n",
                "ORDER BY books.authors, books.title, books.average_rating\r\n",
                "\r\n",
                "\r\n",
                "-- USE BooksDB\r\n",
                "-- SELECT TOP (10) book_tags.tag_id AS 'TAG ID' ,COUNT(books.authors) AS 'AUTHORS', books.title AS 'TITLE', books.average_rating AS 'RATING'\r\n",
                "-- FROM book_tags\r\n",
                "-- INNER JOIN books\r\n",
                "-- ON book_tags.goodreads_book_id=books.book_id\r\n",
                "-- WHERE book_tags.tag_id= 11643\r\n",
                "-- GROUP BY books.authors, books.title, books.average_rating\r\n",
                "-- ORDER BY books.authors -- books.title, books.average_rating\r\n",
                "\r\n",
                "\r\n",
                "\r\n",
                ""
            ],
            "metadata": {
                "azdata_cell_guid": "51ffeaaf-6dde-4906-95f3-eb8757babf27",
                "tags": [],
                "language": "sql"
            },
            "outputs": [
                {
                    "output_type": "display_data",
                    "data": {
                        "text/html": "(30 rows affected)"
                    },
                    "metadata": {}
                },
                {
                    "output_type": "display_data",
                    "data": {
                        "text/html": "Total execution time: 00:00:00.205"
                    },
                    "metadata": {}
                },
                {
                    "output_type": "execute_result",
                    "metadata": {},
                    "execution_count": 5,
                    "data": {
                        "application/vnd.dataresource+json": {
                            "schema": {
                                "fields": [
                                    {
                                        "name": "TAG ID"
                                    },
                                    {
                                        "name": "AUTHORS"
                                    },
                                    {
                                        "name": "TITLE"
                                    },
                                    {
                                        "name": "RATING"
                                    }
                                ]
                            },
                            "data": [
                                {
                                    "0": "11643",
                                    "1": "A.M. Homes",
                                    "2": "May We Be Forgiven",
                                    "3": "3.66"
                                },
                                {
                                    "0": "11643",
                                    "1": "A.N. Roquelaure, Anne Rice",
                                    "2": "Beauty's Punishment (Sleeping Beauty, #2)",
                                    "3": "3.62"
                                },
                                {
                                    "0": "11643",
                                    "1": "A.N. Roquelaure, Anne Rice",
                                    "2": "Beauty's Release (Sleeping Beauty, #3)",
                                    "3": "3.71"
                                },
                                {
                                    "0": "11643",
                                    "1": "A.S. Byatt",
                                    "2": "Possession",
                                    "3": "3.88"
                                },
                                {
                                    "0": "11643",
                                    "1": "A.S. Byatt",
                                    "2": "The Children's Book",
                                    "3": "3.66"
                                },
                                {
                                    "0": "11643",
                                    "1": "A.S.A. Harrison",
                                    "2": "The Silent Wife",
                                    "3": "3.3"
                                },
                                {
                                    "0": "11643",
                                    "1": "Adelle Waldman",
                                    "2": "The Love Affairs of Nathaniel P.",
                                    "3": "3.3"
                                },
                                {
                                    "0": "11643",
                                    "1": "Agatha Christie",
                                    "2": "4:50 from Paddington (Miss Marple, #8)",
                                    "3": "3.92"
                                },
                                {
                                    "0": "11643",
                                    "1": "Agatha Christie",
                                    "2": "A Caribbean Mystery (Miss Marple, #10)",
                                    "3": "3.77"
                                },
                                {
                                    "0": "11643",
                                    "1": "Agatha Christie",
                                    "2": "A Murder Is Announced (Miss Marple, #5)",
                                    "3": "3.96"
                                },
                                {
                                    "0": "11643",
                                    "1": "Agatha Christie",
                                    "2": "A Pocket Full of Rye (Miss Marple, #7)",
                                    "3": "3.83"
                                },
                                {
                                    "0": "11643",
                                    "1": "Agatha Christie",
                                    "2": "After the Funeral (Hercule Poirot, #29)",
                                    "3": "3.84"
                                },
                                {
                                    "0": "11643",
                                    "1": "Agatha Christie",
                                    "2": "And Then There Were None",
                                    "3": "4.23"
                                },
                                {
                                    "0": "11643",
                                    "1": "Agatha Christie",
                                    "2": "Cat Among the Pigeons (Hercule Poirot, #32)",
                                    "3": "3.82"
                                },
                                {
                                    "0": "11643",
                                    "1": "Agatha Christie",
                                    "2": "Death on the Nile (Hercule Poirot, #17)",
                                    "3": "4.06"
                                },
                                {
                                    "0": "11643",
                                    "1": "Agatha Christie",
                                    "2": "Elephants Can Remember (Hercule Poirot, #37)",
                                    "3": "3.62"
                                },
                                {
                                    "0": "11643",
                                    "1": "Agatha Christie",
                                    "2": "Hallowe'en Party (Hercule Poirot, #36)",
                                    "3": "3.66"
                                },
                                {
                                    "0": "11643",
                                    "1": "Agatha Christie",
                                    "2": "Hercule Poirot's Christmas (Hercule Poirot, #20)",
                                    "3": "3.9"
                                },
                                {
                                    "0": "11643",
                                    "1": "Agatha Christie",
                                    "2": "Murder at the Vicarage (Miss Marple, #1)",
                                    "3": "4.03"
                                },
                                {
                                    "0": "11643",
                                    "1": "Agatha Christie",
                                    "2": "Murder in Mesopotamia (Hercule Poirot, #14)",
                                    "3": "3.86"
                                },
                                {
                                    "0": "11643",
                                    "1": "Agatha Christie",
                                    "2": "Murder on the Orient Express (Hercule Poirot, #10)",
                                    "3": "4.16"
                                },
                                {
                                    "0": "11643",
                                    "1": "Agatha Christie",
                                    "2": "Peril at End House (Hercule Poirot, #8)",
                                    "3": "3.89"
                                },
                                {
                                    "0": "11643",
                                    "1": "Agatha Christie",
                                    "2": "The Big Four (Hercule Poirot, #5)",
                                    "3": "3.6"
                                },
                                {
                                    "0": "11643",
                                    "1": "Agatha Christie",
                                    "2": "The Body in the Library (Miss Marple, #3)",
                                    "3": "3.85"
                                },
                                {
                                    "0": "11643",
                                    "1": "Agatha Christie",
                                    "2": "The Man in the Brown Suit",
                                    "3": "3.97"
                                },
                                {
                                    "0": "11643",
                                    "1": "Agatha Christie",
                                    "2": "The Moving Finger (Miss Marple, #4)",
                                    "3": "3.84"
                                },
                                {
                                    "0": "11643",
                                    "1": "Agatha Christie",
                                    "2": "The Murder of Roger Ackroyd (Hercule Poirot, #4)",
                                    "3": "4.2"
                                },
                                {
                                    "0": "11643",
                                    "1": "Agatha Christie",
                                    "2": "The Secret Adversary (Tommy and Tuppence #1)",
                                    "3": "3.82"
                                },
                                {
                                    "0": "11643",
                                    "1": "Agatha Christie",
                                    "2": "They Do It with Mirrors (Miss Marple, #6)",
                                    "3": "3.74"
                                },
                                {
                                    "0": "11643",
                                    "1": "Agatha Christie, Robin Bailey",
                                    "2": "The Clocks (Hercule Poirot, #34)",
                                    "3": "3.71"
                                }
                            ]
                        },
                        "text/html": [
                            "<table>",
                            "<tr><th>TAG ID</th><th>AUTHORS</th><th>TITLE</th><th>RATING</th></tr>",
                            "<tr><td>11643</td><td>A.M. Homes</td><td>May We Be Forgiven</td><td>3.66</td></tr>",
                            "<tr><td>11643</td><td>A.N. Roquelaure, Anne Rice</td><td>Beauty's Punishment (Sleeping Beauty, #2)</td><td>3.62</td></tr>",
                            "<tr><td>11643</td><td>A.N. Roquelaure, Anne Rice</td><td>Beauty's Release (Sleeping Beauty, #3)</td><td>3.71</td></tr>",
                            "<tr><td>11643</td><td>A.S. Byatt</td><td>Possession</td><td>3.88</td></tr>",
                            "<tr><td>11643</td><td>A.S. Byatt</td><td>The Children's Book</td><td>3.66</td></tr>",
                            "<tr><td>11643</td><td>A.S.A. Harrison</td><td>The Silent Wife</td><td>3.3</td></tr>",
                            "<tr><td>11643</td><td>Adelle Waldman</td><td>The Love Affairs of Nathaniel P.</td><td>3.3</td></tr>",
                            "<tr><td>11643</td><td>Agatha Christie</td><td>4:50 from Paddington (Miss Marple, #8)</td><td>3.92</td></tr>",
                            "<tr><td>11643</td><td>Agatha Christie</td><td>A Caribbean Mystery (Miss Marple, #10)</td><td>3.77</td></tr>",
                            "<tr><td>11643</td><td>Agatha Christie</td><td>A Murder Is Announced (Miss Marple, #5)</td><td>3.96</td></tr>",
                            "<tr><td>11643</td><td>Agatha Christie</td><td>A Pocket Full of Rye (Miss Marple, #7)</td><td>3.83</td></tr>",
                            "<tr><td>11643</td><td>Agatha Christie</td><td>After the Funeral (Hercule Poirot, #29)</td><td>3.84</td></tr>",
                            "<tr><td>11643</td><td>Agatha Christie</td><td>And Then There Were None</td><td>4.23</td></tr>",
                            "<tr><td>11643</td><td>Agatha Christie</td><td>Cat Among the Pigeons (Hercule Poirot, #32)</td><td>3.82</td></tr>",
                            "<tr><td>11643</td><td>Agatha Christie</td><td>Death on the Nile (Hercule Poirot, #17)</td><td>4.06</td></tr>",
                            "<tr><td>11643</td><td>Agatha Christie</td><td>Elephants Can Remember (Hercule Poirot, #37)</td><td>3.62</td></tr>",
                            "<tr><td>11643</td><td>Agatha Christie</td><td>Hallowe'en Party (Hercule Poirot, #36)</td><td>3.66</td></tr>",
                            "<tr><td>11643</td><td>Agatha Christie</td><td>Hercule Poirot's Christmas (Hercule Poirot, #20)</td><td>3.9</td></tr>",
                            "<tr><td>11643</td><td>Agatha Christie</td><td>Murder at the Vicarage (Miss Marple, #1)</td><td>4.03</td></tr>",
                            "<tr><td>11643</td><td>Agatha Christie</td><td>Murder in Mesopotamia (Hercule Poirot, #14)</td><td>3.86</td></tr>",
                            "<tr><td>11643</td><td>Agatha Christie</td><td>Murder on the Orient Express (Hercule Poirot, #10)</td><td>4.16</td></tr>",
                            "<tr><td>11643</td><td>Agatha Christie</td><td>Peril at End House (Hercule Poirot, #8)</td><td>3.89</td></tr>",
                            "<tr><td>11643</td><td>Agatha Christie</td><td>The Big Four (Hercule Poirot, #5)</td><td>3.6</td></tr>",
                            "<tr><td>11643</td><td>Agatha Christie</td><td>The Body in the Library (Miss Marple, #3)</td><td>3.85</td></tr>",
                            "<tr><td>11643</td><td>Agatha Christie</td><td>The Man in the Brown Suit</td><td>3.97</td></tr>",
                            "<tr><td>11643</td><td>Agatha Christie</td><td>The Moving Finger (Miss Marple, #4)</td><td>3.84</td></tr>",
                            "<tr><td>11643</td><td>Agatha Christie</td><td>The Murder of Roger Ackroyd (Hercule Poirot, #4)</td><td>4.2</td></tr>",
                            "<tr><td>11643</td><td>Agatha Christie</td><td>The Secret Adversary (Tommy and Tuppence #1)</td><td>3.82</td></tr>",
                            "<tr><td>11643</td><td>Agatha Christie</td><td>They Do It with Mirrors (Miss Marple, #6)</td><td>3.74</td></tr>",
                            "<tr><td>11643</td><td>Agatha Christie, Robin Bailey</td><td>The Clocks (Hercule Poirot, #34)</td><td>3.71</td></tr>",
                            "</table>"
                        ]
                    }
                }
            ],
            "execution_count": 5
        },
        {
            "cell_type": "markdown",
            "source": [
                "### **Record your thoughts about why you wrote the query the way you did.**"
            ],
            "metadata": {
                "azdata_cell_guid": "1e19a72c-1bca-446b-a0c7-a8efbc35dcf1"
            },
            "attachments": {}
        },
        {
            "cell_type": "markdown",
            "source": [
                "# Part 2: Choose Another Month\n",
                "\n",
                "Choose another month and plan at least 2 events / promotions and answer the following questions.\n",
                "\n",
                "Which month did you choose?  \n",
                "\n",
                "What 2 events / promotions are you highlighting?\n",
                "\n",
                "> 1.\n",
                "\n",
                "> 2."
            ],
            "metadata": {
                "azdata_cell_guid": "3eaf376d-9de3-4553-a9d0-9caf74ee3d6a"
            },
            "attachments": {}
        },
        {
            "cell_type": "markdown",
            "source": [
                "# Part 3: Summarize your Work\n",
                "\n",
                "For each event write at least one query that joins any two tables in the BooksDB to support your choice and record you thoughts as to why you used the paticlular query. At least one of your queries needs to include a HAVING clause."
            ],
            "metadata": {
                "azdata_cell_guid": "1ba1363a-4f02-4962-a95a-93b80c5926b1"
            },
            "attachments": {}
        },
        {
            "cell_type": "code",
            "source": [
                "-- Event 1 Query\r\n",
                "--BLACK HISTORY MONTH FEBRUARY\r\n",
                "USE BooksDB\r\n",
                "SELECT tag_name\r\n",
                "FROM tags\r\n",
                "WHERE tag_name LIKE '%black%' AND tag_name LIKE '%HISTORY%'\r\n",
                "\r\n",
                "---BOOKS THAT STARTS WITH 'THE' AND HAVE 'F' OR 'DRAGON'\r\n",
                "USE BooksDB\r\n",
                "SELECT TOP 10 title\r\n",
                "FROM books\r\n",
                "WHERE title LIKE 'THE%' AND title LIKE '%F%' OR title LIKE '%DRAGON%'\r\n",
                "\r\n",
                "--WE USE HAVING WHEN WE HAVE AN AGGREGATION. IT SERVES AS THE FILTER ON AN AGGREGATION, LIKE WHERE\r\n",
                ""
            ],
            "metadata": {
                "azdata_cell_guid": "f50d32ce-4cb2-4af2-acb1-607777a76cf8",
                "language": "sql"
            },
            "outputs": [
                {
                    "output_type": "display_data",
                    "data": {
                        "text/html": "(3 rows affected)"
                    },
                    "metadata": {}
                },
                {
                    "output_type": "display_data",
                    "data": {
                        "text/html": "(10 rows affected)"
                    },
                    "metadata": {}
                },
                {
                    "output_type": "display_data",
                    "data": {
                        "text/html": "Total execution time: 00:00:00.166"
                    },
                    "metadata": {}
                },
                {
                    "output_type": "execute_result",
                    "metadata": {},
                    "execution_count": 8,
                    "data": {
                        "application/vnd.dataresource+json": {
                            "schema": {
                                "fields": [
                                    {
                                        "name": "tag_name"
                                    }
                                ]
                            },
                            "data": [
                                {
                                    "0": "black-history"
                                },
                                {
                                    "0": "black-history-month"
                                },
                                {
                                    "0": "black-history-read"
                                }
                            ]
                        },
                        "text/html": [
                            "<table>",
                            "<tr><th>tag_name</th></tr>",
                            "<tr><td>black-history</td></tr>",
                            "<tr><td>black-history-month</td></tr>",
                            "<tr><td>black-history-read</td></tr>",
                            "</table>"
                        ]
                    }
                },
                {
                    "output_type": "execute_result",
                    "metadata": {},
                    "execution_count": 8,
                    "data": {
                        "application/vnd.dataresource+json": {
                            "schema": {
                                "fields": [
                                    {
                                        "name": "title"
                                    }
                                ]
                            },
                            "data": [
                                {
                                    "0": "The Fault in Our Stars"
                                },
                                {
                                    "0": "The Diary of a Young Girl"
                                },
                                {
                                    "0": "The Girl with the Dragon Tattoo (Millennium, #1)"
                                },
                                {
                                    "0": "The Fellowship of the Ring (The Lord of the Rings, #1)"
                                },
                                {
                                    "0": "The Lion, the Witch, and the Wardrobe (Chronicles of Narnia, #1)"
                                },
                                {
                                    "0": "The Time Traveler's Wife"
                                },
                                {
                                    "0": "The Lightning Thief (Percy Jackson and the Olympians, #1)"
                                },
                                {
                                    "0": "The Book Thief"
                                },
                                {
                                    "0": "The Secret Life of Bees"
                                },
                                {
                                    "0": "The Adventures of Huckleberry Finn"
                                }
                            ]
                        },
                        "text/html": [
                            "<table>",
                            "<tr><th>title</th></tr>",
                            "<tr><td>The Fault in Our Stars</td></tr>",
                            "<tr><td>The Diary of a Young Girl</td></tr>",
                            "<tr><td>The Girl with the Dragon Tattoo (Millennium, #1)</td></tr>",
                            "<tr><td>The Fellowship of the Ring (The Lord of the Rings, #1)</td></tr>",
                            "<tr><td>The Lion, the Witch, and the Wardrobe (Chronicles of Narnia, #1)</td></tr>",
                            "<tr><td>The Time Traveler's Wife</td></tr>",
                            "<tr><td>The Lightning Thief (Percy Jackson and the Olympians, #1)</td></tr>",
                            "<tr><td>The Book Thief</td></tr>",
                            "<tr><td>The Secret Life of Bees</td></tr>",
                            "<tr><td>The Adventures of Huckleberry Finn</td></tr>",
                            "</table>"
                        ]
                    }
                }
            ],
            "execution_count": 8
        },
        {
            "cell_type": "code",
            "source": [
                ""
            ],
            "metadata": {
                "azdata_cell_guid": "5606f7f2-c46b-42d3-ac64-7ae21c3394f8",
                "language": "sql"
            },
            "outputs": [],
            "execution_count": null
        },
        {
            "cell_type": "markdown",
            "source": [
                "### **Summary of event 1:**\n",
                "\n",
                "Double Click to edit."
            ],
            "metadata": {
                "azdata_cell_guid": "3bc72d4c-077b-42d3-9528-9aff8e7b6cf3"
            },
            "attachments": {}
        },
        {
            "cell_type": "code",
            "source": [
                "-- Event 2 Query"
            ],
            "metadata": {
                "azdata_cell_guid": "dca0a98f-065f-4b0e-9d93-fcb01cad668c",
                "language": "sql"
            },
            "outputs": [],
            "execution_count": null
        },
        {
            "cell_type": "code",
            "source": [
                ""
            ],
            "metadata": {
                "azdata_cell_guid": "3aaae3a8-eff7-4b37-8970-2d913a67239b",
                "language": "sql"
            },
            "outputs": [],
            "execution_count": null
        },
        {
            "cell_type": "markdown",
            "source": [
                "### **Summary of event 2:**\n",
                "\n",
                "Double Click to edit."
            ],
            "metadata": {
                "azdata_cell_guid": "99d518dc-cd8b-42d6-9a9d-708771c9aa99"
            },
            "attachments": {}
        },
        {
            "cell_type": "code",
            "source": [
                "--Find the book/books with the lowest average rating. Select book title and average rating.\r\n",
                "\r\n",
                "USE BooksDB\r\n",
                "select b.title, avg(rating) as avg_rating from ratings r\r\n",
                "   join books b on\r\n",
                "   r.book_id = b.id\r\n",
                "\r\n",
                "group by b.title\r\n",
                "having avg(rating) =\r\n",
                "  (select min(avg_rating)\r\n",
                "    from\r\n",
                "      (select b.title, avg(rating) as avg_rating\r\n",
                "      from ratings r\r\n",
                "      join books b on r.book_id = b.id\r\n",
                "      group by b.title\r\n",
                "       )as t\r\n",
                "    );\r\n",
                "\r\n",
                "USE BooksDB    \r\n",
                "select TOP 1 books.title, avg(ratings.rating) as avg_rating from ratings join books on ratings.book_id = books.id\r\n",
                "group by books.title\r\n",
                "order by avg_rating asc;\r\n",
                ""
            ],
            "metadata": {
                "azdata_cell_guid": "ab662c29-f4e6-4644-b934-6a2611a745a8",
                "language": "sql"
            },
            "outputs": [
                {
                    "output_type": "display_data",
                    "data": {
                        "text/html": "(1 row affected)"
                    },
                    "metadata": {}
                },
                {
                    "output_type": "display_data",
                    "data": {
                        "text/html": "(1 row affected)"
                    },
                    "metadata": {}
                },
                {
                    "output_type": "display_data",
                    "data": {
                        "text/html": "Total execution time: 00:00:01.268"
                    },
                    "metadata": {}
                },
                {
                    "output_type": "execute_result",
                    "execution_count": 29,
                    "data": {
                        "application/vnd.dataresource+json": {
                            "schema": {
                                "fields": [
                                    {
                                        "name": "title"
                                    },
                                    {
                                        "name": "avg_rating"
                                    }
                                ]
                            },
                            "data": [
                                {
                                    "0": "One Night at the Call Center",
                                    "1": "1"
                                }
                            ]
                        },
                        "text/html": "<table><tr><th>title</th><th>avg_rating</th></tr><tr><td>One Night at the Call Center</td><td>1</td></tr></table>"
                    },
                    "metadata": {}
                },
                {
                    "output_type": "execute_result",
                    "execution_count": 29,
                    "data": {
                        "application/vnd.dataresource+json": {
                            "schema": {
                                "fields": [
                                    {
                                        "name": "title"
                                    },
                                    {
                                        "name": "avg_rating"
                                    }
                                ]
                            },
                            "data": [
                                {
                                    "0": "One Night at the Call Center",
                                    "1": "1"
                                }
                            ]
                        },
                        "text/html": "<table><tr><th>title</th><th>avg_rating</th></tr><tr><td>One Night at the Call Center</td><td>1</td></tr></table>"
                    },
                    "metadata": {}
                }
            ],
            "execution_count": 29
        },
        {
            "cell_type": "code",
            "source": [
                "-- You could use a subquery, which will find all book ids which have more than two authors:\r\n",
                "\r\n",
                "-- SELECT c.book_id\r\n",
                "--   FROM book_author c\r\n",
                "--   GROUP BY c.book_id\r\n",
                "--   HAVING count(c.book_id) >= 2\r\n",
                "-- ... and then use this in your main query, to get all authors & books from your joined tables whos book id appears in the subquery:\r\n",
                "\r\n",
                "-- SELECT ba.author_id, a.name AS author_name, b.title\r\n",
                "-- FROM \r\n",
                "--     book_author ba JOIN book b ON ba.book_id = b.book_id\r\n",
                "--     JOIN author a ON ba.author_id = a.author_id\r\n",
                "-- WHERE\r\n",
                "--     b.book_id IN (SELECT c.book_id\r\n",
                "--                     FROM book_author c\r\n",
                "--                     GROUP BY c.book_id\r\n",
                "--                     HAVING count(c.book_id) >= 2);"
            ],
            "metadata": {
                "language": "sql",
                "azdata_cell_guid": "83ffebf2-9cca-4c4d-87e7-c91f36cff4ba"
            },
            "outputs": [],
            "execution_count": null
        }
    ]
}